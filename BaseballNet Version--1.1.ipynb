{
 "cells": [
  {
   "cell_type": "code",
   "execution_count": 1,
   "metadata": {},
   "outputs": [],
   "source": [
    "import statsapi\n",
    "import pandas as pd\n",
    "import bnlearn"
   ]
  },
  {
   "cell_type": "code",
   "execution_count": 2,
   "metadata": {},
   "outputs": [],
   "source": [
    "num = pd.read_csv('NatPHIL2019FromNatPers.csv')"
   ]
  },
  {
   "cell_type": "code",
   "execution_count": 3,
   "metadata": {},
   "outputs": [],
   "source": [
    "stats = statsapi.get('stats', {'teamId': 120, 'stats':'sabermetrics', 'group': 'pitching', 'season': 2019})"
   ]
  },
  {
   "cell_type": "code",
   "execution_count": 4,
   "metadata": {},
   "outputs": [],
   "source": [
    "#print(stats)\n"
   ]
  },
  {
   "cell_type": "code",
   "execution_count": 5,
   "metadata": {
    "scrolled": true
   },
   "outputs": [
    {
     "name": "stdout",
     "output_type": "stream",
     "text": [
      "{'fip': 2.44805, 'fipMinus': 53.704, 'ra9War': 5.95098, 'rar': 59.5592, 'war': 6.52517}\n"
     ]
    }
   ],
   "source": [
    "stats = stats.get('stats')[0].get('splits')[0].get('stat')\n",
    "print(stats)"
   ]
  },
  {
   "cell_type": "code",
   "execution_count": 6,
   "metadata": {},
   "outputs": [],
   "source": [
    "#wdf = pd.DataFrame(['fip', 'war'])"
   ]
  },
  {
   "cell_type": "code",
   "execution_count": 7,
   "metadata": {},
   "outputs": [
    {
     "name": "stdout",
     "output_type": "stream",
     "text": [
      "[3.94797, 3.16175, 2.82376, 3.35723, 2.6815, 2.76687, 3.23853, 2.8985, 2.6535]\n"
     ]
    }
   ],
   "source": [
    "i = 0\n",
    "fipw = 9 * [0] #washington\n",
    "warw = 9 * [0]\n",
    "while (i < 9):\n",
    "    stats = statsapi.get('stats', {'teamId': 120, 'stats':'sabermetrics', 'group': 'pitching', 'season': 2010 + i})\n",
    "    fipw[i] = stats.get('stats')[0].get('splits')[0].get('stat').get('fip')\n",
    "    warw[i] = stats.get('stats')[0].get('splits')[0].get('stat').get('war')\n",
    "    #w[i] = stats\n",
    "    i += 1\n",
    "print(fipw) \n",
    "d = {'fip': fipw, 'war': warw}\n",
    "wdf = pd.DataFrame(data=d)\n",
    "#wdf['fip'] = fipw\n",
    "#wdf['war'] = warw"
   ]
  },
  {
   "cell_type": "code",
   "execution_count": 8,
   "metadata": {},
   "outputs": [],
   "source": [
    "#wdf"
   ]
  },
  {
   "cell_type": "code",
   "execution_count": 10,
   "metadata": {
    "scrolled": true
   },
   "outputs": [],
   "source": [
    "i = 0 #pitsburgh pirates\n",
    "fipp = 9 * [0] \n",
    "warp = 9 * [0]\n",
    "while (i < 9):\n",
    "    stats = statsapi.get('stats', {'teamId': 134, 'stats':'sabermetrics', 'group': 'pitching', 'season': 2010 + i})\n",
    "    fipp[i] = stats.get('stats')[0].get('splits')[0].get('stat').get('fip')\n",
    "    warp[i] = stats.get('stats')[0].get('splits')[0].get('stat').get('war')\n",
    "    i += 1\n",
    "d = {'fip': fipp, 'war': warp}\n",
    "pdf = pd.DataFrame(data=d)\n",
    "   # answers[['name', 'domain']] = answers['ownerEmail'].str.split('@')[2]\n",
    "    "
   ]
  },
  {
   "cell_type": "code",
   "execution_count": 11,
   "metadata": {},
   "outputs": [],
   "source": [
    "#pdf"
   ]
  },
  {
   "cell_type": "code",
   "execution_count": 12,
   "metadata": {},
   "outputs": [],
   "source": [
    "pdf[\"fipo\"] = wdf['fip']\n",
    "pdf['waro'] = wdf['war']"
   ]
  },
  {
   "cell_type": "code",
   "execution_count": 13,
   "metadata": {},
   "outputs": [],
   "source": [
    "pdf = num"
   ]
  },
  {
   "cell_type": "code",
   "execution_count": 14,
   "metadata": {},
   "outputs": [
    {
     "data": {
      "text/html": [
       "<div>\n",
       "<style scoped>\n",
       "    .dataframe tbody tr th:only-of-type {\n",
       "        vertical-align: middle;\n",
       "    }\n",
       "\n",
       "    .dataframe tbody tr th {\n",
       "        vertical-align: top;\n",
       "    }\n",
       "\n",
       "    .dataframe thead th {\n",
       "        text-align: right;\n",
       "    }\n",
       "</style>\n",
       "<table border=\"1\" class=\"dataframe\">\n",
       "  <thead>\n",
       "    <tr style=\"text-align: right;\">\n",
       "      <th></th>\n",
       "      <th>WinsW</th>\n",
       "      <th>Pops(A)</th>\n",
       "      <th>Wops(A)</th>\n",
       "      <th>Pera(D)</th>\n",
       "      <th>Wera(D)</th>\n",
       "    </tr>\n",
       "  </thead>\n",
       "  <tbody>\n",
       "    <tr>\n",
       "      <th>0</th>\n",
       "      <td>1</td>\n",
       "      <td>0.724</td>\n",
       "      <td>0.991</td>\n",
       "      <td>5.62</td>\n",
       "      <td>3.00</td>\n",
       "    </tr>\n",
       "    <tr>\n",
       "      <th>1</th>\n",
       "      <td>1</td>\n",
       "      <td>0.618</td>\n",
       "      <td>0.749</td>\n",
       "      <td>4.50</td>\n",
       "      <td>2.00</td>\n",
       "    </tr>\n",
       "    <tr>\n",
       "      <th>2</th>\n",
       "      <td>1</td>\n",
       "      <td>0.679</td>\n",
       "      <td>0.723</td>\n",
       "      <td>3.00</td>\n",
       "      <td>1.00</td>\n",
       "    </tr>\n",
       "    <tr>\n",
       "      <th>3</th>\n",
       "      <td>1</td>\n",
       "      <td>0.385</td>\n",
       "      <td>0.681</td>\n",
       "      <td>4.50</td>\n",
       "      <td>1.00</td>\n",
       "    </tr>\n",
       "    <tr>\n",
       "      <th>4</th>\n",
       "      <td>1</td>\n",
       "      <td>0.483</td>\n",
       "      <td>1.088</td>\n",
       "      <td>7.88</td>\n",
       "      <td>2.00</td>\n",
       "    </tr>\n",
       "    <tr>\n",
       "      <th>5</th>\n",
       "      <td>0</td>\n",
       "      <td>0.733</td>\n",
       "      <td>0.610</td>\n",
       "      <td>3.00</td>\n",
       "      <td>4.32</td>\n",
       "    </tr>\n",
       "    <tr>\n",
       "      <th>6</th>\n",
       "      <td>1</td>\n",
       "      <td>0.684</td>\n",
       "      <td>0.730</td>\n",
       "      <td>3.00</td>\n",
       "      <td>3.00</td>\n",
       "    </tr>\n",
       "    <tr>\n",
       "      <th>7</th>\n",
       "      <td>1</td>\n",
       "      <td>0.542</td>\n",
       "      <td>0.649</td>\n",
       "      <td>4.00</td>\n",
       "      <td>0.00</td>\n",
       "    </tr>\n",
       "    <tr>\n",
       "      <th>8</th>\n",
       "      <td>1</td>\n",
       "      <td>0.823</td>\n",
       "      <td>1.129</td>\n",
       "      <td>7.88</td>\n",
       "      <td>4.00</td>\n",
       "    </tr>\n",
       "    <tr>\n",
       "      <th>9</th>\n",
       "      <td>1</td>\n",
       "      <td>0.343</td>\n",
       "      <td>0.604</td>\n",
       "      <td>2.25</td>\n",
       "      <td>0.00</td>\n",
       "    </tr>\n",
       "    <tr>\n",
       "      <th>10</th>\n",
       "      <td>1</td>\n",
       "      <td>0.660</td>\n",
       "      <td>0.851</td>\n",
       "      <td>5.62</td>\n",
       "      <td>2.00</td>\n",
       "    </tr>\n",
       "    <tr>\n",
       "      <th>11</th>\n",
       "      <td>0</td>\n",
       "      <td>0.657</td>\n",
       "      <td>0.517</td>\n",
       "      <td>1.00</td>\n",
       "      <td>5.62</td>\n",
       "    </tr>\n",
       "    <tr>\n",
       "      <th>12</th>\n",
       "      <td>1</td>\n",
       "      <td>0.860</td>\n",
       "      <td>0.960</td>\n",
       "      <td>7.00</td>\n",
       "      <td>8.00</td>\n",
       "    </tr>\n",
       "    <tr>\n",
       "      <th>13</th>\n",
       "      <td>0</td>\n",
       "      <td>0.682</td>\n",
       "      <td>0.614</td>\n",
       "      <td>2.00</td>\n",
       "      <td>4.50</td>\n",
       "    </tr>\n",
       "    <tr>\n",
       "      <th>14</th>\n",
       "      <td>1</td>\n",
       "      <td>0.951</td>\n",
       "      <td>0.473</td>\n",
       "      <td>13.00</td>\n",
       "      <td>1.00</td>\n",
       "    </tr>\n",
       "    <tr>\n",
       "      <th>15</th>\n",
       "      <td>1</td>\n",
       "      <td>0.754</td>\n",
       "      <td>1.060</td>\n",
       "      <td>8.10</td>\n",
       "      <td>5.40</td>\n",
       "    </tr>\n",
       "    <tr>\n",
       "      <th>16</th>\n",
       "      <td>0</td>\n",
       "      <td>0.919</td>\n",
       "      <td>0.667</td>\n",
       "      <td>3.00</td>\n",
       "      <td>4.50</td>\n",
       "    </tr>\n",
       "    <tr>\n",
       "      <th>17</th>\n",
       "      <td>1</td>\n",
       "      <td>0.783</td>\n",
       "      <td>1.138</td>\n",
       "      <td>9.00</td>\n",
       "      <td>8.00</td>\n",
       "    </tr>\n",
       "    <tr>\n",
       "      <th>18</th>\n",
       "      <td>0</td>\n",
       "      <td>1.010</td>\n",
       "      <td>0.538</td>\n",
       "      <td>2.00</td>\n",
       "      <td>7.00</td>\n",
       "    </tr>\n",
       "  </tbody>\n",
       "</table>\n",
       "</div>"
      ],
      "text/plain": [
       "    WinsW  Pops(A)  Wops(A)  Pera(D)  Wera(D)\n",
       "0       1    0.724    0.991     5.62     3.00\n",
       "1       1    0.618    0.749     4.50     2.00\n",
       "2       1    0.679    0.723     3.00     1.00\n",
       "3       1    0.385    0.681     4.50     1.00\n",
       "4       1    0.483    1.088     7.88     2.00\n",
       "5       0    0.733    0.610     3.00     4.32\n",
       "6       1    0.684    0.730     3.00     3.00\n",
       "7       1    0.542    0.649     4.00     0.00\n",
       "8       1    0.823    1.129     7.88     4.00\n",
       "9       1    0.343    0.604     2.25     0.00\n",
       "10      1    0.660    0.851     5.62     2.00\n",
       "11      0    0.657    0.517     1.00     5.62\n",
       "12      1    0.860    0.960     7.00     8.00\n",
       "13      0    0.682    0.614     2.00     4.50\n",
       "14      1    0.951    0.473    13.00     1.00\n",
       "15      1    0.754    1.060     8.10     5.40\n",
       "16      0    0.919    0.667     3.00     4.50\n",
       "17      1    0.783    1.138     9.00     8.00\n",
       "18      0    1.010    0.538     2.00     7.00"
      ]
     },
     "execution_count": 14,
     "metadata": {},
     "output_type": "execute_result"
    }
   ],
   "source": [
    "pdf"
   ]
  },
  {
   "cell_type": "code",
   "execution_count": 15,
   "metadata": {},
   "outputs": [],
   "source": [
    "#ax = pdf.plot.line()"
   ]
  },
  {
   "cell_type": "code",
   "execution_count": 16,
   "metadata": {},
   "outputs": [],
   "source": [
    "OPS = pdf.drop(columns = [ 'Pera(D)', 'Wera(D)'])"
   ]
  },
  {
   "cell_type": "code",
   "execution_count": null,
   "metadata": {},
   "outputs": [],
   "source": []
  },
  {
   "cell_type": "code",
   "execution_count": 17,
   "metadata": {},
   "outputs": [],
   "source": [
    "#OPS.plot.line()"
   ]
  },
  {
   "cell_type": "markdown",
   "metadata": {},
   "source": [
    "### Both of the games have a linear relationship where when one team bats better the other also does better. However Washington Nats continues to outperform on the sector."
   ]
  },
  {
   "cell_type": "code",
   "execution_count": 18,
   "metadata": {},
   "outputs": [],
   "source": [
    "ERA = pdf.drop(columns = [ 'Pops(A)', 'Wops(A)'])"
   ]
  },
  {
   "cell_type": "code",
   "execution_count": 19,
   "metadata": {},
   "outputs": [],
   "source": [
    "#ERA.plot.line()"
   ]
  },
  {
   "cell_type": "markdown",
   "metadata": {},
   "source": [
    "### Pitching also has a relationship where one teams blunders proportionally makes the other team Worse. ERA has a negative relationship with the lower the score being better for the team. \n"
   ]
  },
  {
   "cell_type": "code",
   "execution_count": 22,
   "metadata": {},
   "outputs": [],
   "source": [
    "pdf['Pera(D)'] = (pdf['Pera(D)']/10 * -1 )+ 1\n",
    "pdf['Wera(D)'] =  (pdf['Wera(D)']/10 * -1 )+ 1\n"
   ]
  },
  {
   "cell_type": "code",
   "execution_count": 23,
   "metadata": {},
   "outputs": [
    {
     "data": {
      "text/html": [
       "<div>\n",
       "<style scoped>\n",
       "    .dataframe tbody tr th:only-of-type {\n",
       "        vertical-align: middle;\n",
       "    }\n",
       "\n",
       "    .dataframe tbody tr th {\n",
       "        vertical-align: top;\n",
       "    }\n",
       "\n",
       "    .dataframe thead th {\n",
       "        text-align: right;\n",
       "    }\n",
       "</style>\n",
       "<table border=\"1\" class=\"dataframe\">\n",
       "  <thead>\n",
       "    <tr style=\"text-align: right;\">\n",
       "      <th></th>\n",
       "      <th>WinsW</th>\n",
       "      <th>Pops(A)</th>\n",
       "      <th>Wops(A)</th>\n",
       "      <th>Pera(D)</th>\n",
       "      <th>Wera(D)</th>\n",
       "    </tr>\n",
       "  </thead>\n",
       "  <tbody>\n",
       "    <tr>\n",
       "      <th>0</th>\n",
       "      <td>1</td>\n",
       "      <td>0.724</td>\n",
       "      <td>0.991</td>\n",
       "      <td>0.9562</td>\n",
       "      <td>0.9300</td>\n",
       "    </tr>\n",
       "    <tr>\n",
       "      <th>1</th>\n",
       "      <td>1</td>\n",
       "      <td>0.618</td>\n",
       "      <td>0.749</td>\n",
       "      <td>0.9450</td>\n",
       "      <td>0.9200</td>\n",
       "    </tr>\n",
       "    <tr>\n",
       "      <th>2</th>\n",
       "      <td>1</td>\n",
       "      <td>0.679</td>\n",
       "      <td>0.723</td>\n",
       "      <td>0.9300</td>\n",
       "      <td>0.9100</td>\n",
       "    </tr>\n",
       "    <tr>\n",
       "      <th>3</th>\n",
       "      <td>1</td>\n",
       "      <td>0.385</td>\n",
       "      <td>0.681</td>\n",
       "      <td>0.9450</td>\n",
       "      <td>0.9100</td>\n",
       "    </tr>\n",
       "    <tr>\n",
       "      <th>4</th>\n",
       "      <td>1</td>\n",
       "      <td>0.483</td>\n",
       "      <td>1.088</td>\n",
       "      <td>0.9788</td>\n",
       "      <td>0.9200</td>\n",
       "    </tr>\n",
       "    <tr>\n",
       "      <th>5</th>\n",
       "      <td>0</td>\n",
       "      <td>0.733</td>\n",
       "      <td>0.610</td>\n",
       "      <td>0.9300</td>\n",
       "      <td>0.9432</td>\n",
       "    </tr>\n",
       "    <tr>\n",
       "      <th>6</th>\n",
       "      <td>1</td>\n",
       "      <td>0.684</td>\n",
       "      <td>0.730</td>\n",
       "      <td>0.9300</td>\n",
       "      <td>0.9300</td>\n",
       "    </tr>\n",
       "    <tr>\n",
       "      <th>7</th>\n",
       "      <td>1</td>\n",
       "      <td>0.542</td>\n",
       "      <td>0.649</td>\n",
       "      <td>0.9400</td>\n",
       "      <td>0.9000</td>\n",
       "    </tr>\n",
       "    <tr>\n",
       "      <th>8</th>\n",
       "      <td>1</td>\n",
       "      <td>0.823</td>\n",
       "      <td>1.129</td>\n",
       "      <td>0.9788</td>\n",
       "      <td>0.9400</td>\n",
       "    </tr>\n",
       "    <tr>\n",
       "      <th>9</th>\n",
       "      <td>1</td>\n",
       "      <td>0.343</td>\n",
       "      <td>0.604</td>\n",
       "      <td>0.9225</td>\n",
       "      <td>0.9000</td>\n",
       "    </tr>\n",
       "    <tr>\n",
       "      <th>10</th>\n",
       "      <td>1</td>\n",
       "      <td>0.660</td>\n",
       "      <td>0.851</td>\n",
       "      <td>0.9562</td>\n",
       "      <td>0.9200</td>\n",
       "    </tr>\n",
       "    <tr>\n",
       "      <th>11</th>\n",
       "      <td>0</td>\n",
       "      <td>0.657</td>\n",
       "      <td>0.517</td>\n",
       "      <td>0.9100</td>\n",
       "      <td>0.9562</td>\n",
       "    </tr>\n",
       "    <tr>\n",
       "      <th>12</th>\n",
       "      <td>1</td>\n",
       "      <td>0.860</td>\n",
       "      <td>0.960</td>\n",
       "      <td>0.9700</td>\n",
       "      <td>0.9800</td>\n",
       "    </tr>\n",
       "    <tr>\n",
       "      <th>13</th>\n",
       "      <td>0</td>\n",
       "      <td>0.682</td>\n",
       "      <td>0.614</td>\n",
       "      <td>0.9200</td>\n",
       "      <td>0.9450</td>\n",
       "    </tr>\n",
       "    <tr>\n",
       "      <th>14</th>\n",
       "      <td>1</td>\n",
       "      <td>0.951</td>\n",
       "      <td>0.473</td>\n",
       "      <td>1.0300</td>\n",
       "      <td>0.9100</td>\n",
       "    </tr>\n",
       "    <tr>\n",
       "      <th>15</th>\n",
       "      <td>1</td>\n",
       "      <td>0.754</td>\n",
       "      <td>1.060</td>\n",
       "      <td>0.9810</td>\n",
       "      <td>0.9540</td>\n",
       "    </tr>\n",
       "    <tr>\n",
       "      <th>16</th>\n",
       "      <td>0</td>\n",
       "      <td>0.919</td>\n",
       "      <td>0.667</td>\n",
       "      <td>0.9300</td>\n",
       "      <td>0.9450</td>\n",
       "    </tr>\n",
       "    <tr>\n",
       "      <th>17</th>\n",
       "      <td>1</td>\n",
       "      <td>0.783</td>\n",
       "      <td>1.138</td>\n",
       "      <td>0.9900</td>\n",
       "      <td>0.9800</td>\n",
       "    </tr>\n",
       "    <tr>\n",
       "      <th>18</th>\n",
       "      <td>0</td>\n",
       "      <td>1.010</td>\n",
       "      <td>0.538</td>\n",
       "      <td>0.9200</td>\n",
       "      <td>0.9700</td>\n",
       "    </tr>\n",
       "  </tbody>\n",
       "</table>\n",
       "</div>"
      ],
      "text/plain": [
       "    WinsW  Pops(A)  Wops(A)  Pera(D)  Wera(D)\n",
       "0       1    0.724    0.991   0.9562   0.9300\n",
       "1       1    0.618    0.749   0.9450   0.9200\n",
       "2       1    0.679    0.723   0.9300   0.9100\n",
       "3       1    0.385    0.681   0.9450   0.9100\n",
       "4       1    0.483    1.088   0.9788   0.9200\n",
       "5       0    0.733    0.610   0.9300   0.9432\n",
       "6       1    0.684    0.730   0.9300   0.9300\n",
       "7       1    0.542    0.649   0.9400   0.9000\n",
       "8       1    0.823    1.129   0.9788   0.9400\n",
       "9       1    0.343    0.604   0.9225   0.9000\n",
       "10      1    0.660    0.851   0.9562   0.9200\n",
       "11      0    0.657    0.517   0.9100   0.9562\n",
       "12      1    0.860    0.960   0.9700   0.9800\n",
       "13      0    0.682    0.614   0.9200   0.9450\n",
       "14      1    0.951    0.473   1.0300   0.9100\n",
       "15      1    0.754    1.060   0.9810   0.9540\n",
       "16      0    0.919    0.667   0.9300   0.9450\n",
       "17      1    0.783    1.138   0.9900   0.9800\n",
       "18      0    1.010    0.538   0.9200   0.9700"
      ]
     },
     "execution_count": 23,
     "metadata": {},
     "output_type": "execute_result"
    }
   ],
   "source": [
    "pdf"
   ]
  },
  {
   "cell_type": "code",
   "execution_count": 24,
   "metadata": {},
   "outputs": [],
   "source": [
    "pdf['Pops(A)'] = pdf['Pops(A)'].apply(lambda x: round(10 * (x)))\n",
    "pdf['Wops(A)'] = pdf['Wops(A)'].apply(lambda x: round(10 * (x)))\n",
    "pdf['Pera(D)'] = pdf['Pera(D)'].apply(lambda x: round(10 * (x)))\n",
    "pdf['Wera(D)'] = pdf['Wera(D)'].apply(lambda x: round(10 * (x)))\n"
   ]
  },
  {
   "cell_type": "code",
   "execution_count": 25,
   "metadata": {},
   "outputs": [
    {
     "data": {
      "text/html": [
       "<div>\n",
       "<style scoped>\n",
       "    .dataframe tbody tr th:only-of-type {\n",
       "        vertical-align: middle;\n",
       "    }\n",
       "\n",
       "    .dataframe tbody tr th {\n",
       "        vertical-align: top;\n",
       "    }\n",
       "\n",
       "    .dataframe thead th {\n",
       "        text-align: right;\n",
       "    }\n",
       "</style>\n",
       "<table border=\"1\" class=\"dataframe\">\n",
       "  <thead>\n",
       "    <tr style=\"text-align: right;\">\n",
       "      <th></th>\n",
       "      <th>WinsW</th>\n",
       "      <th>Pops(A)</th>\n",
       "      <th>Wops(A)</th>\n",
       "      <th>Pera(D)</th>\n",
       "      <th>Wera(D)</th>\n",
       "    </tr>\n",
       "  </thead>\n",
       "  <tbody>\n",
       "    <tr>\n",
       "      <th>0</th>\n",
       "      <td>1</td>\n",
       "      <td>7</td>\n",
       "      <td>10</td>\n",
       "      <td>10</td>\n",
       "      <td>9</td>\n",
       "    </tr>\n",
       "    <tr>\n",
       "      <th>1</th>\n",
       "      <td>1</td>\n",
       "      <td>6</td>\n",
       "      <td>7</td>\n",
       "      <td>9</td>\n",
       "      <td>9</td>\n",
       "    </tr>\n",
       "    <tr>\n",
       "      <th>2</th>\n",
       "      <td>1</td>\n",
       "      <td>7</td>\n",
       "      <td>7</td>\n",
       "      <td>9</td>\n",
       "      <td>9</td>\n",
       "    </tr>\n",
       "    <tr>\n",
       "      <th>3</th>\n",
       "      <td>1</td>\n",
       "      <td>4</td>\n",
       "      <td>7</td>\n",
       "      <td>9</td>\n",
       "      <td>9</td>\n",
       "    </tr>\n",
       "    <tr>\n",
       "      <th>4</th>\n",
       "      <td>1</td>\n",
       "      <td>5</td>\n",
       "      <td>11</td>\n",
       "      <td>10</td>\n",
       "      <td>9</td>\n",
       "    </tr>\n",
       "    <tr>\n",
       "      <th>5</th>\n",
       "      <td>0</td>\n",
       "      <td>7</td>\n",
       "      <td>6</td>\n",
       "      <td>9</td>\n",
       "      <td>9</td>\n",
       "    </tr>\n",
       "    <tr>\n",
       "      <th>6</th>\n",
       "      <td>1</td>\n",
       "      <td>7</td>\n",
       "      <td>7</td>\n",
       "      <td>9</td>\n",
       "      <td>9</td>\n",
       "    </tr>\n",
       "    <tr>\n",
       "      <th>7</th>\n",
       "      <td>1</td>\n",
       "      <td>5</td>\n",
       "      <td>6</td>\n",
       "      <td>9</td>\n",
       "      <td>9</td>\n",
       "    </tr>\n",
       "    <tr>\n",
       "      <th>8</th>\n",
       "      <td>1</td>\n",
       "      <td>8</td>\n",
       "      <td>11</td>\n",
       "      <td>10</td>\n",
       "      <td>9</td>\n",
       "    </tr>\n",
       "    <tr>\n",
       "      <th>9</th>\n",
       "      <td>1</td>\n",
       "      <td>3</td>\n",
       "      <td>6</td>\n",
       "      <td>9</td>\n",
       "      <td>9</td>\n",
       "    </tr>\n",
       "    <tr>\n",
       "      <th>10</th>\n",
       "      <td>1</td>\n",
       "      <td>7</td>\n",
       "      <td>9</td>\n",
       "      <td>10</td>\n",
       "      <td>9</td>\n",
       "    </tr>\n",
       "    <tr>\n",
       "      <th>11</th>\n",
       "      <td>0</td>\n",
       "      <td>7</td>\n",
       "      <td>5</td>\n",
       "      <td>9</td>\n",
       "      <td>10</td>\n",
       "    </tr>\n",
       "    <tr>\n",
       "      <th>12</th>\n",
       "      <td>1</td>\n",
       "      <td>9</td>\n",
       "      <td>10</td>\n",
       "      <td>10</td>\n",
       "      <td>10</td>\n",
       "    </tr>\n",
       "    <tr>\n",
       "      <th>13</th>\n",
       "      <td>0</td>\n",
       "      <td>7</td>\n",
       "      <td>6</td>\n",
       "      <td>9</td>\n",
       "      <td>9</td>\n",
       "    </tr>\n",
       "    <tr>\n",
       "      <th>14</th>\n",
       "      <td>1</td>\n",
       "      <td>10</td>\n",
       "      <td>5</td>\n",
       "      <td>10</td>\n",
       "      <td>9</td>\n",
       "    </tr>\n",
       "    <tr>\n",
       "      <th>15</th>\n",
       "      <td>1</td>\n",
       "      <td>8</td>\n",
       "      <td>11</td>\n",
       "      <td>10</td>\n",
       "      <td>10</td>\n",
       "    </tr>\n",
       "    <tr>\n",
       "      <th>16</th>\n",
       "      <td>0</td>\n",
       "      <td>9</td>\n",
       "      <td>7</td>\n",
       "      <td>9</td>\n",
       "      <td>9</td>\n",
       "    </tr>\n",
       "    <tr>\n",
       "      <th>17</th>\n",
       "      <td>1</td>\n",
       "      <td>8</td>\n",
       "      <td>11</td>\n",
       "      <td>10</td>\n",
       "      <td>10</td>\n",
       "    </tr>\n",
       "    <tr>\n",
       "      <th>18</th>\n",
       "      <td>0</td>\n",
       "      <td>10</td>\n",
       "      <td>5</td>\n",
       "      <td>9</td>\n",
       "      <td>10</td>\n",
       "    </tr>\n",
       "  </tbody>\n",
       "</table>\n",
       "</div>"
      ],
      "text/plain": [
       "    WinsW  Pops(A)  Wops(A)  Pera(D)  Wera(D)\n",
       "0       1        7       10       10        9\n",
       "1       1        6        7        9        9\n",
       "2       1        7        7        9        9\n",
       "3       1        4        7        9        9\n",
       "4       1        5       11       10        9\n",
       "5       0        7        6        9        9\n",
       "6       1        7        7        9        9\n",
       "7       1        5        6        9        9\n",
       "8       1        8       11       10        9\n",
       "9       1        3        6        9        9\n",
       "10      1        7        9       10        9\n",
       "11      0        7        5        9       10\n",
       "12      1        9       10       10       10\n",
       "13      0        7        6        9        9\n",
       "14      1       10        5       10        9\n",
       "15      1        8       11       10       10\n",
       "16      0        9        7        9        9\n",
       "17      1        8       11       10       10\n",
       "18      0       10        5        9       10"
      ]
     },
     "execution_count": 25,
     "metadata": {},
     "output_type": "execute_result"
    }
   ],
   "source": [
    "pdf"
   ]
  },
  {
   "cell_type": "code",
   "execution_count": 26,
   "metadata": {},
   "outputs": [],
   "source": [
    "#pdf.plot.line()\n"
   ]
  },
  {
   "cell_type": "code",
   "execution_count": 27,
   "metadata": {},
   "outputs": [],
   "source": [
    "from bayespy.inference import VB"
   ]
  },
  {
   "cell_type": "code",
   "execution_count": 28,
   "metadata": {},
   "outputs": [],
   "source": [
    "edges = [ \n",
    "    ('Pops(A)', 'WinsW'),\n",
    "    ('Wops(A)', 'WinsW'),\n",
    "    ('Pera(D)','WinsW' ),\n",
    "    ('Wera(D)', 'WinsW'),\n",
    "    ('Pera(D)','Wops(A)'),                                         \n",
    "    ('Wera(D)', 'Pops(A)'),\n",
    "]"
   ]
  },
  {
   "cell_type": "code",
   "execution_count": 29,
   "metadata": {
    "scrolled": true
   },
   "outputs": [
    {
     "name": "stdout",
     "output_type": "stream",
     "text": [
      "[bnlearn] >Bayesian DAG created.\n",
      "[bnlearn] >Plot based on BayesianModel\n"
     ]
    },
    {
     "data": {
      "image/png": "[encoded data removed]",
      "text/plain": [
       "<Figure size 1080x576 with 1 Axes>"
      ]
     },
     "metadata": {},
     "output_type": "display_data"
    },
    {
     "data": {
      "text/plain": [
       "{'pos': {'Pops(A)': array([-0.33914   , -0.79685593]),\n",
       "  'WinsW': array([ 0.79267253, -0.64751001]),\n",
       "  'Wops(A)': array([-1.        ,  0.15762612]),\n",
       "  'Pera(D)': array([0.71695375, 0.39247809]),\n",
       "  'Wera(D)': array([-0.17048629,  0.89426174])},\n",
       " 'G': <networkx.classes.digraph.DiGraph at 0x186ee740f40>}"
      ]
     },
     "execution_count": 29,
     "metadata": {},
     "output_type": "execute_result"
    }
   ],
   "source": [
    "# Structure learning\n",
    "DAG = bnlearn.make_DAG(edges)\n",
    "# Plot\n",
    "bnlearn.plot(DAG)"
   ]
  },
  {
   "cell_type": "code",
   "execution_count": 30,
   "metadata": {},
   "outputs": [
    {
     "name": "stdout",
     "output_type": "stream",
     "text": [
      "[BNLEARN][PARAMETER LEARNING] Computing parameters using [bayes]\n",
      "CPD of Pops(A):\n",
      "+-------------+---------------------+---------------------+\n",
      "| Wera(D)     | Wera(D)(9)          | Wera(D)(10)         |\n",
      "+-------------+---------------------+---------------------+\n",
      "| Pops(A)(3)  | 0.12354085603112841 | 0.12376237623762376 |\n",
      "+-------------+---------------------+---------------------+\n",
      "| Pops(A)(4)  | 0.12354085603112841 | 0.12376237623762376 |\n",
      "+-------------+---------------------+---------------------+\n",
      "| Pops(A)(5)  | 0.1254863813229572  | 0.12376237623762376 |\n",
      "+-------------+---------------------+---------------------+\n",
      "| Pops(A)(6)  | 0.12354085603112841 | 0.12376237623762376 |\n",
      "+-------------+---------------------+---------------------+\n",
      "| Pops(A)(7)  | 0.13326848249027237 | 0.12574257425742574 |\n",
      "+-------------+---------------------+---------------------+\n",
      "| Pops(A)(8)  | 0.12354085603112841 | 0.12772277227722773 |\n",
      "+-------------+---------------------+---------------------+\n",
      "| Pops(A)(9)  | 0.12354085603112841 | 0.12574257425742574 |\n",
      "+-------------+---------------------+---------------------+\n",
      "| Pops(A)(10) | 0.12354085603112841 | 0.12574257425742574 |\n",
      "+-------------+---------------------+---------------------+\n",
      "CPD of WinsW:\n",
      "+----------+------------+---------------------+------------+------------+-------------+-------------+-------------+-------------+-------------+-------------+-------------+-------------+------------+------------+---------------------+------------+-------------+-------------+-------------+-------------+-------------+-------------+-------------+-------------+------------+---------------------+------------+------------+-------------+-------------+-------------+-------------+-------------+-------------+-------------+-------------+------------+------------+---------------------+------------+-------------+-------------+-------------+-------------+-------------+-------------+-------------+-------------+------------+---------------------+---------------------+------------+-------------+-------------+---------------------+-------------+-------------+-------------+-------------+-------------+------------+------------+------------+------------+-------------+-------------+-------------+-------------+-------------+-------------+-------------+-------------+------------+------------+---------------------+------------+-------------+-------------+-------------+-------------+-------------+-------------+-------------+-------------+-------------+-------------+-------------+-------------+-------------+-------------+---------------------+-------------+-------------+-------------+-------------+-------------+-------------+-------------+-------------+-------------+-------------+-------------+-------------+-------------+-------------+-------------+-------------+-------------+-------------+-------------+-------------+-------------+-------------+-------------+-------------+-------------+-------------+-------------+-------------+-------------+-------------+-------------+-------------+-------------+-------------+---------------------+-------------+-------------+-------------+-------------+-------------+-------------+-------------+-------------+-------------+-------------+-------------+-------------+-------------+-------------+-------------+-------------+-------------+-------------+-------------+-------------+-------------+---------------------+---------------------+-------------+-------------+-------------+-------------+-------------+-------------+-------------+-------------+-------------+-------------+-------------+-------------+---------------------+-------------+-------------+-------------+-------------+-------------+---------------------+-------------+-------------+-------------+-------------+-------------+-------------+-------------+-------------+-------------+-------------+---------------------+-------------+---------------------+-------------+-------------+-------------+-------------+-------------+-------------+-------------+-------------+-------------+-------------+-------------+\n",
      "| Pera(D)  | Pera(D)(9) | Pera(D)(9)          | Pera(D)(9) | Pera(D)(9) | Pera(D)(9)  | Pera(D)(9)  | Pera(D)(9)  | Pera(D)(9)  | Pera(D)(9)  | Pera(D)(9)  | Pera(D)(9)  | Pera(D)(9)  | Pera(D)(9) | Pera(D)(9) | Pera(D)(9)          | Pera(D)(9) | Pera(D)(9)  | Pera(D)(9)  | Pera(D)(9)  | Pera(D)(9)  | Pera(D)(9)  | Pera(D)(9)  | Pera(D)(9)  | Pera(D)(9)  | Pera(D)(9) | Pera(D)(9)          | Pera(D)(9) | Pera(D)(9) | Pera(D)(9)  | Pera(D)(9)  | Pera(D)(9)  | Pera(D)(9)  | Pera(D)(9)  | Pera(D)(9)  | Pera(D)(9)  | Pera(D)(9)  | Pera(D)(9) | Pera(D)(9) | Pera(D)(9)          | Pera(D)(9) | Pera(D)(9)  | Pera(D)(9)  | Pera(D)(9)  | Pera(D)(9)  | Pera(D)(9)  | Pera(D)(9)  | Pera(D)(9)  | Pera(D)(9)  | Pera(D)(9) | Pera(D)(9)          | Pera(D)(9)          | Pera(D)(9) | Pera(D)(9)  | Pera(D)(9)  | Pera(D)(9)          | Pera(D)(9)  | Pera(D)(9)  | Pera(D)(9)  | Pera(D)(9)  | Pera(D)(9)  | Pera(D)(9) | Pera(D)(9) | Pera(D)(9) | Pera(D)(9) | Pera(D)(9)  | Pera(D)(9)  | Pera(D)(9)  | Pera(D)(9)  | Pera(D)(9)  | Pera(D)(9)  | Pera(D)(9)  | Pera(D)(9)  | Pera(D)(9) | Pera(D)(9) | Pera(D)(9)          | Pera(D)(9) | Pera(D)(9)  | Pera(D)(9)  | Pera(D)(9)  | Pera(D)(9)  | Pera(D)(9)  | Pera(D)(9)  | Pera(D)(9)  | Pera(D)(9)  | Pera(D)(9)  | Pera(D)(9)  | Pera(D)(9)  | Pera(D)(9)  | Pera(D)(9)  | Pera(D)(9)  | Pera(D)(9)          | Pera(D)(9)  | Pera(D)(9)  | Pera(D)(9)  | Pera(D)(9)  | Pera(D)(9)  | Pera(D)(10) | Pera(D)(10) | Pera(D)(10) | Pera(D)(10) | Pera(D)(10) | Pera(D)(10) | Pera(D)(10) | Pera(D)(10) | Pera(D)(10) | Pera(D)(10) | Pera(D)(10) | Pera(D)(10) | Pera(D)(10) | Pera(D)(10) | Pera(D)(10) | Pera(D)(10) | Pera(D)(10) | Pera(D)(10) | Pera(D)(10) | Pera(D)(10) | Pera(D)(10) | Pera(D)(10) | Pera(D)(10) | Pera(D)(10) | Pera(D)(10) | Pera(D)(10) | Pera(D)(10) | Pera(D)(10) | Pera(D)(10) | Pera(D)(10)         | Pera(D)(10) | Pera(D)(10) | Pera(D)(10) | Pera(D)(10) | Pera(D)(10) | Pera(D)(10) | Pera(D)(10) | Pera(D)(10) | Pera(D)(10) | Pera(D)(10) | Pera(D)(10) | Pera(D)(10) | Pera(D)(10) | Pera(D)(10) | Pera(D)(10) | Pera(D)(10) | Pera(D)(10) | Pera(D)(10) | Pera(D)(10) | Pera(D)(10) | Pera(D)(10) | Pera(D)(10)         | Pera(D)(10)         | Pera(D)(10) | Pera(D)(10) | Pera(D)(10) | Pera(D)(10) | Pera(D)(10) | Pera(D)(10) | Pera(D)(10) | Pera(D)(10) | Pera(D)(10) | Pera(D)(10) | Pera(D)(10) | Pera(D)(10) | Pera(D)(10)         | Pera(D)(10) | Pera(D)(10) | Pera(D)(10) | Pera(D)(10) | Pera(D)(10) | Pera(D)(10)         | Pera(D)(10) | Pera(D)(10) | Pera(D)(10) | Pera(D)(10) | Pera(D)(10) | Pera(D)(10) | Pera(D)(10) | Pera(D)(10) | Pera(D)(10) | Pera(D)(10) | Pera(D)(10)         | Pera(D)(10) | Pera(D)(10)         | Pera(D)(10) | Pera(D)(10) | Pera(D)(10) | Pera(D)(10) | Pera(D)(10) | Pera(D)(10) | Pera(D)(10) | Pera(D)(10) | Pera(D)(10) | Pera(D)(10) | Pera(D)(10) |\n",
      "+----------+------------+---------------------+------------+------------+-------------+-------------+-------------+-------------+-------------+-------------+-------------+-------------+------------+------------+---------------------+------------+-------------+-------------+-------------+-------------+-------------+-------------+-------------+-------------+------------+---------------------+------------+------------+-------------+-------------+-------------+-------------+-------------+-------------+-------------+-------------+------------+------------+---------------------+------------+-------------+-------------+-------------+-------------+-------------+-------------+-------------+-------------+------------+---------------------+---------------------+------------+-------------+-------------+---------------------+-------------+-------------+-------------+-------------+-------------+------------+------------+------------+------------+-------------+-------------+-------------+-------------+-------------+-------------+-------------+-------------+------------+------------+---------------------+------------+-------------+-------------+-------------+-------------+-------------+-------------+-------------+-------------+-------------+-------------+-------------+-------------+-------------+-------------+---------------------+-------------+-------------+-------------+-------------+-------------+-------------+-------------+-------------+-------------+-------------+-------------+-------------+-------------+-------------+-------------+-------------+-------------+-------------+-------------+-------------+-------------+-------------+-------------+-------------+-------------+-------------+-------------+-------------+-------------+-------------+-------------+-------------+-------------+-------------+---------------------+-------------+-------------+-------------+-------------+-------------+-------------+-------------+-------------+-------------+-------------+-------------+-------------+-------------+-------------+-------------+-------------+-------------+-------------+-------------+-------------+-------------+---------------------+---------------------+-------------+-------------+-------------+-------------+-------------+-------------+-------------+-------------+-------------+-------------+-------------+-------------+---------------------+-------------+-------------+-------------+-------------+-------------+---------------------+-------------+-------------+-------------+-------------+-------------+-------------+-------------+-------------+-------------+-------------+---------------------+-------------+---------------------+-------------+-------------+-------------+-------------+-------------+-------------+-------------+-------------+-------------+-------------+-------------+\n",
      "| Pops(A)  | Pops(A)(3) | Pops(A)(3)          | Pops(A)(3) | Pops(A)(3) | Pops(A)(3)  | Pops(A)(3)  | Pops(A)(3)  | Pops(A)(3)  | Pops(A)(3)  | Pops(A)(3)  | Pops(A)(3)  | Pops(A)(3)  | Pops(A)(4) | Pops(A)(4) | Pops(A)(4)          | Pops(A)(4) | Pops(A)(4)  | Pops(A)(4)  | Pops(A)(4)  | Pops(A)(4)  | Pops(A)(4)  | Pops(A)(4)  | Pops(A)(4)  | Pops(A)(4)  | Pops(A)(5) | Pops(A)(5)          | Pops(A)(5) | Pops(A)(5) | Pops(A)(5)  | Pops(A)(5)  | Pops(A)(5)  | Pops(A)(5)  | Pops(A)(5)  | Pops(A)(5)  | Pops(A)(5)  | Pops(A)(5)  | Pops(A)(6) | Pops(A)(6) | Pops(A)(6)          | Pops(A)(6) | Pops(A)(6)  | Pops(A)(6)  | Pops(A)(6)  | Pops(A)(6)  | Pops(A)(6)  | Pops(A)(6)  | Pops(A)(6)  | Pops(A)(6)  | Pops(A)(7) | Pops(A)(7)          | Pops(A)(7)          | Pops(A)(7) | Pops(A)(7)  | Pops(A)(7)  | Pops(A)(7)          | Pops(A)(7)  | Pops(A)(7)  | Pops(A)(7)  | Pops(A)(7)  | Pops(A)(7)  | Pops(A)(8) | Pops(A)(8) | Pops(A)(8) | Pops(A)(8) | Pops(A)(8)  | Pops(A)(8)  | Pops(A)(8)  | Pops(A)(8)  | Pops(A)(8)  | Pops(A)(8)  | Pops(A)(8)  | Pops(A)(8)  | Pops(A)(9) | Pops(A)(9) | Pops(A)(9)          | Pops(A)(9) | Pops(A)(9)  | Pops(A)(9)  | Pops(A)(9)  | Pops(A)(9)  | Pops(A)(9)  | Pops(A)(9)  | Pops(A)(9)  | Pops(A)(9)  | Pops(A)(10) | Pops(A)(10) | Pops(A)(10) | Pops(A)(10) | Pops(A)(10) | Pops(A)(10) | Pops(A)(10)         | Pops(A)(10) | Pops(A)(10) | Pops(A)(10) | Pops(A)(10) | Pops(A)(10) | Pops(A)(3)  | Pops(A)(3)  | Pops(A)(3)  | Pops(A)(3)  | Pops(A)(3)  | Pops(A)(3)  | Pops(A)(3)  | Pops(A)(3)  | Pops(A)(3)  | Pops(A)(3)  | Pops(A)(3)  | Pops(A)(3)  | Pops(A)(4)  | Pops(A)(4)  | Pops(A)(4)  | Pops(A)(4)  | Pops(A)(4)  | Pops(A)(4)  | Pops(A)(4)  | Pops(A)(4)  | Pops(A)(4)  | Pops(A)(4)  | Pops(A)(4)  | Pops(A)(4)  | Pops(A)(5)  | Pops(A)(5)  | Pops(A)(5)  | Pops(A)(5)  | Pops(A)(5)  | Pops(A)(5)          | Pops(A)(5)  | Pops(A)(5)  | Pops(A)(5)  | Pops(A)(5)  | Pops(A)(5)  | Pops(A)(5)  | Pops(A)(6)  | Pops(A)(6)  | Pops(A)(6)  | Pops(A)(6)  | Pops(A)(6)  | Pops(A)(6)  | Pops(A)(6)  | Pops(A)(6)  | Pops(A)(6)  | Pops(A)(6)  | Pops(A)(6)  | Pops(A)(6)  | Pops(A)(7)  | Pops(A)(7)  | Pops(A)(7)  | Pops(A)(7)          | Pops(A)(7)          | Pops(A)(7)  | Pops(A)(7)  | Pops(A)(7)  | Pops(A)(7)  | Pops(A)(7)  | Pops(A)(7)  | Pops(A)(7)  | Pops(A)(8)  | Pops(A)(8)  | Pops(A)(8)  | Pops(A)(8)  | Pops(A)(8)  | Pops(A)(8)          | Pops(A)(8)  | Pops(A)(8)  | Pops(A)(8)  | Pops(A)(8)  | Pops(A)(8)  | Pops(A)(8)          | Pops(A)(9)  | Pops(A)(9)  | Pops(A)(9)  | Pops(A)(9)  | Pops(A)(9)  | Pops(A)(9)  | Pops(A)(9)  | Pops(A)(9)  | Pops(A)(9)  | Pops(A)(9)  | Pops(A)(9)          | Pops(A)(9)  | Pops(A)(10)         | Pops(A)(10) | Pops(A)(10) | Pops(A)(10) | Pops(A)(10) | Pops(A)(10) | Pops(A)(10) | Pops(A)(10) | Pops(A)(10) | Pops(A)(10) | Pops(A)(10) | Pops(A)(10) |\n",
      "+----------+------------+---------------------+------------+------------+-------------+-------------+-------------+-------------+-------------+-------------+-------------+-------------+------------+------------+---------------------+------------+-------------+-------------+-------------+-------------+-------------+-------------+-------------+-------------+------------+---------------------+------------+------------+-------------+-------------+-------------+-------------+-------------+-------------+-------------+-------------+------------+------------+---------------------+------------+-------------+-------------+-------------+-------------+-------------+-------------+-------------+-------------+------------+---------------------+---------------------+------------+-------------+-------------+---------------------+-------------+-------------+-------------+-------------+-------------+------------+------------+------------+------------+-------------+-------------+-------------+-------------+-------------+-------------+-------------+-------------+------------+------------+---------------------+------------+-------------+-------------+-------------+-------------+-------------+-------------+-------------+-------------+-------------+-------------+-------------+-------------+-------------+-------------+---------------------+-------------+-------------+-------------+-------------+-------------+-------------+-------------+-------------+-------------+-------------+-------------+-------------+-------------+-------------+-------------+-------------+-------------+-------------+-------------+-------------+-------------+-------------+-------------+-------------+-------------+-------------+-------------+-------------+-------------+-------------+-------------+-------------+-------------+-------------+---------------------+-------------+-------------+-------------+-------------+-------------+-------------+-------------+-------------+-------------+-------------+-------------+-------------+-------------+-------------+-------------+-------------+-------------+-------------+-------------+-------------+-------------+---------------------+---------------------+-------------+-------------+-------------+-------------+-------------+-------------+-------------+-------------+-------------+-------------+-------------+-------------+---------------------+-------------+-------------+-------------+-------------+-------------+---------------------+-------------+-------------+-------------+-------------+-------------+-------------+-------------+-------------+-------------+-------------+---------------------+-------------+---------------------+-------------+-------------+-------------+-------------+-------------+-------------+-------------+-------------+-------------+-------------+-------------+\n",
      "| Wera(D)  | Wera(D)(9) | Wera(D)(9)          | Wera(D)(9) | Wera(D)(9) | Wera(D)(9)  | Wera(D)(9)  | Wera(D)(10) | Wera(D)(10) | Wera(D)(10) | Wera(D)(10) | Wera(D)(10) | Wera(D)(10) | Wera(D)(9) | Wera(D)(9) | Wera(D)(9)          | Wera(D)(9) | Wera(D)(9)  | Wera(D)(9)  | Wera(D)(10) | Wera(D)(10) | Wera(D)(10) | Wera(D)(10) | Wera(D)(10) | Wera(D)(10) | Wera(D)(9) | Wera(D)(9)          | Wera(D)(9) | Wera(D)(9) | Wera(D)(9)  | Wera(D)(9)  | Wera(D)(10) | Wera(D)(10) | Wera(D)(10) | Wera(D)(10) | Wera(D)(10) | Wera(D)(10) | Wera(D)(9) | Wera(D)(9) | Wera(D)(9)          | Wera(D)(9) | Wera(D)(9)  | Wera(D)(9)  | Wera(D)(10) | Wera(D)(10) | Wera(D)(10) | Wera(D)(10) | Wera(D)(10) | Wera(D)(10) | Wera(D)(9) | Wera(D)(9)          | Wera(D)(9)          | Wera(D)(9) | Wera(D)(9)  | Wera(D)(9)  | Wera(D)(10)         | Wera(D)(10) | Wera(D)(10) | Wera(D)(10) | Wera(D)(10) | Wera(D)(10) | Wera(D)(9) | Wera(D)(9) | Wera(D)(9) | Wera(D)(9) | Wera(D)(9)  | Wera(D)(9)  | Wera(D)(10) | Wera(D)(10) | Wera(D)(10) | Wera(D)(10) | Wera(D)(10) | Wera(D)(10) | Wera(D)(9) | Wera(D)(9) | Wera(D)(9)          | Wera(D)(9) | Wera(D)(9)  | Wera(D)(9)  | Wera(D)(10) | Wera(D)(10) | Wera(D)(10) | Wera(D)(10) | Wera(D)(10) | Wera(D)(10) | Wera(D)(9)  | Wera(D)(9)  | Wera(D)(9)  | Wera(D)(9)  | Wera(D)(9)  | Wera(D)(9)  | Wera(D)(10)         | Wera(D)(10) | Wera(D)(10) | Wera(D)(10) | Wera(D)(10) | Wera(D)(10) | Wera(D)(9)  | Wera(D)(9)  | Wera(D)(9)  | Wera(D)(9)  | Wera(D)(9)  | Wera(D)(9)  | Wera(D)(10) | Wera(D)(10) | Wera(D)(10) | Wera(D)(10) | Wera(D)(10) | Wera(D)(10) | Wera(D)(9)  | Wera(D)(9)  | Wera(D)(9)  | Wera(D)(9)  | Wera(D)(9)  | Wera(D)(9)  | Wera(D)(10) | Wera(D)(10) | Wera(D)(10) | Wera(D)(10) | Wera(D)(10) | Wera(D)(10) | Wera(D)(9)  | Wera(D)(9)  | Wera(D)(9)  | Wera(D)(9)  | Wera(D)(9)  | Wera(D)(9)          | Wera(D)(10) | Wera(D)(10) | Wera(D)(10) | Wera(D)(10) | Wera(D)(10) | Wera(D)(10) | Wera(D)(9)  | Wera(D)(9)  | Wera(D)(9)  | Wera(D)(9)  | Wera(D)(9)  | Wera(D)(9)  | Wera(D)(10) | Wera(D)(10) | Wera(D)(10) | Wera(D)(10) | Wera(D)(10) | Wera(D)(10) | Wera(D)(9)  | Wera(D)(9)  | Wera(D)(9)  | Wera(D)(9)          | Wera(D)(9)          | Wera(D)(9)  | Wera(D)(10) | Wera(D)(10) | Wera(D)(10) | Wera(D)(10) | Wera(D)(10) | Wera(D)(10) | Wera(D)(9)  | Wera(D)(9)  | Wera(D)(9)  | Wera(D)(9)  | Wera(D)(9)  | Wera(D)(9)          | Wera(D)(10) | Wera(D)(10) | Wera(D)(10) | Wera(D)(10) | Wera(D)(10) | Wera(D)(10)         | Wera(D)(9)  | Wera(D)(9)  | Wera(D)(9)  | Wera(D)(9)  | Wera(D)(9)  | Wera(D)(9)  | Wera(D)(10) | Wera(D)(10) | Wera(D)(10) | Wera(D)(10) | Wera(D)(10)         | Wera(D)(10) | Wera(D)(9)          | Wera(D)(9)  | Wera(D)(9)  | Wera(D)(9)  | Wera(D)(9)  | Wera(D)(9)  | Wera(D)(10) | Wera(D)(10) | Wera(D)(10) | Wera(D)(10) | Wera(D)(10) | Wera(D)(10) |\n",
      "+----------+------------+---------------------+------------+------------+-------------+-------------+-------------+-------------+-------------+-------------+-------------+-------------+------------+------------+---------------------+------------+-------------+-------------+-------------+-------------+-------------+-------------+-------------+-------------+------------+---------------------+------------+------------+-------------+-------------+-------------+-------------+-------------+-------------+-------------+-------------+------------+------------+---------------------+------------+-------------+-------------+-------------+-------------+-------------+-------------+-------------+-------------+------------+---------------------+---------------------+------------+-------------+-------------+---------------------+-------------+-------------+-------------+-------------+-------------+------------+------------+------------+------------+-------------+-------------+-------------+-------------+-------------+-------------+-------------+-------------+------------+------------+---------------------+------------+-------------+-------------+-------------+-------------+-------------+-------------+-------------+-------------+-------------+-------------+-------------+-------------+-------------+-------------+---------------------+-------------+-------------+-------------+-------------+-------------+-------------+-------------+-------------+-------------+-------------+-------------+-------------+-------------+-------------+-------------+-------------+-------------+-------------+-------------+-------------+-------------+-------------+-------------+-------------+-------------+-------------+-------------+-------------+-------------+-------------+-------------+-------------+-------------+-------------+---------------------+-------------+-------------+-------------+-------------+-------------+-------------+-------------+-------------+-------------+-------------+-------------+-------------+-------------+-------------+-------------+-------------+-------------+-------------+-------------+-------------+-------------+---------------------+---------------------+-------------+-------------+-------------+-------------+-------------+-------------+-------------+-------------+-------------+-------------+-------------+-------------+---------------------+-------------+-------------+-------------+-------------+-------------+---------------------+-------------+-------------+-------------+-------------+-------------+-------------+-------------+-------------+-------------+-------------+---------------------+-------------+---------------------+-------------+-------------+-------------+-------------+-------------+-------------+-------------+-------------+-------------+-------------+-------------+\n",
      "| Wops(A)  | Wops(A)(5) | Wops(A)(6)          | Wops(A)(7) | Wops(A)(9) | Wops(A)(10) | Wops(A)(11) | Wops(A)(5)  | Wops(A)(6)  | Wops(A)(7)  | Wops(A)(9)  | Wops(A)(10) | Wops(A)(11) | Wops(A)(5) | Wops(A)(6) | Wops(A)(7)          | Wops(A)(9) | Wops(A)(10) | Wops(A)(11) | Wops(A)(5)  | Wops(A)(6)  | Wops(A)(7)  | Wops(A)(9)  | Wops(A)(10) | Wops(A)(11) | Wops(A)(5) | Wops(A)(6)          | Wops(A)(7) | Wops(A)(9) | Wops(A)(10) | Wops(A)(11) | Wops(A)(5)  | Wops(A)(6)  | Wops(A)(7)  | Wops(A)(9)  | Wops(A)(10) | Wops(A)(11) | Wops(A)(5) | Wops(A)(6) | Wops(A)(7)          | Wops(A)(9) | Wops(A)(10) | Wops(A)(11) | Wops(A)(5)  | Wops(A)(6)  | Wops(A)(7)  | Wops(A)(9)  | Wops(A)(10) | Wops(A)(11) | Wops(A)(5) | Wops(A)(6)          | Wops(A)(7)          | Wops(A)(9) | Wops(A)(10) | Wops(A)(11) | Wops(A)(5)          | Wops(A)(6)  | Wops(A)(7)  | Wops(A)(9)  | Wops(A)(10) | Wops(A)(11) | Wops(A)(5) | Wops(A)(6) | Wops(A)(7) | Wops(A)(9) | Wops(A)(10) | Wops(A)(11) | Wops(A)(5)  | Wops(A)(6)  | Wops(A)(7)  | Wops(A)(9)  | Wops(A)(10) | Wops(A)(11) | Wops(A)(5) | Wops(A)(6) | Wops(A)(7)          | Wops(A)(9) | Wops(A)(10) | Wops(A)(11) | Wops(A)(5)  | Wops(A)(6)  | Wops(A)(7)  | Wops(A)(9)  | Wops(A)(10) | Wops(A)(11) | Wops(A)(5)  | Wops(A)(6)  | Wops(A)(7)  | Wops(A)(9)  | Wops(A)(10) | Wops(A)(11) | Wops(A)(5)          | Wops(A)(6)  | Wops(A)(7)  | Wops(A)(9)  | Wops(A)(10) | Wops(A)(11) | Wops(A)(5)  | Wops(A)(6)  | Wops(A)(7)  | Wops(A)(9)  | Wops(A)(10) | Wops(A)(11) | Wops(A)(5)  | Wops(A)(6)  | Wops(A)(7)  | Wops(A)(9)  | Wops(A)(10) | Wops(A)(11) | Wops(A)(5)  | Wops(A)(6)  | Wops(A)(7)  | Wops(A)(9)  | Wops(A)(10) | Wops(A)(11) | Wops(A)(5)  | Wops(A)(6)  | Wops(A)(7)  | Wops(A)(9)  | Wops(A)(10) | Wops(A)(11) | Wops(A)(5)  | Wops(A)(6)  | Wops(A)(7)  | Wops(A)(9)  | Wops(A)(10) | Wops(A)(11)         | Wops(A)(5)  | Wops(A)(6)  | Wops(A)(7)  | Wops(A)(9)  | Wops(A)(10) | Wops(A)(11) | Wops(A)(5)  | Wops(A)(6)  | Wops(A)(7)  | Wops(A)(9)  | Wops(A)(10) | Wops(A)(11) | Wops(A)(5)  | Wops(A)(6)  | Wops(A)(7)  | Wops(A)(9)  | Wops(A)(10) | Wops(A)(11) | Wops(A)(5)  | Wops(A)(6)  | Wops(A)(7)  | Wops(A)(9)          | Wops(A)(10)         | Wops(A)(11) | Wops(A)(5)  | Wops(A)(6)  | Wops(A)(7)  | Wops(A)(9)  | Wops(A)(10) | Wops(A)(11) | Wops(A)(5)  | Wops(A)(6)  | Wops(A)(7)  | Wops(A)(9)  | Wops(A)(10) | Wops(A)(11)         | Wops(A)(5)  | Wops(A)(6)  | Wops(A)(7)  | Wops(A)(9)  | Wops(A)(10) | Wops(A)(11)         | Wops(A)(5)  | Wops(A)(6)  | Wops(A)(7)  | Wops(A)(9)  | Wops(A)(10) | Wops(A)(11) | Wops(A)(5)  | Wops(A)(6)  | Wops(A)(7)  | Wops(A)(9)  | Wops(A)(10)         | Wops(A)(11) | Wops(A)(5)          | Wops(A)(6)  | Wops(A)(7)  | Wops(A)(9)  | Wops(A)(10) | Wops(A)(11) | Wops(A)(5)  | Wops(A)(6)  | Wops(A)(7)  | Wops(A)(9)  | Wops(A)(10) | Wops(A)(11) |\n",
      "+----------+------------+---------------------+------------+------------+-------------+-------------+-------------+-------------+-------------+-------------+-------------+-------------+------------+------------+---------------------+------------+-------------+-------------+-------------+-------------+-------------+-------------+-------------+-------------+------------+---------------------+------------+------------+-------------+-------------+-------------+-------------+-------------+-------------+-------------+-------------+------------+------------+---------------------+------------+-------------+-------------+-------------+-------------+-------------+-------------+-------------+-------------+------------+---------------------+---------------------+------------+-------------+-------------+---------------------+-------------+-------------+-------------+-------------+-------------+------------+------------+------------+------------+-------------+-------------+-------------+-------------+-------------+-------------+-------------+-------------+------------+------------+---------------------+------------+-------------+-------------+-------------+-------------+-------------+-------------+-------------+-------------+-------------+-------------+-------------+-------------+-------------+-------------+---------------------+-------------+-------------+-------------+-------------+-------------+-------------+-------------+-------------+-------------+-------------+-------------+-------------+-------------+-------------+-------------+-------------+-------------+-------------+-------------+-------------+-------------+-------------+-------------+-------------+-------------+-------------+-------------+-------------+-------------+-------------+-------------+-------------+-------------+-------------+---------------------+-------------+-------------+-------------+-------------+-------------+-------------+-------------+-------------+-------------+-------------+-------------+-------------+-------------+-------------+-------------+-------------+-------------+-------------+-------------+-------------+-------------+---------------------+---------------------+-------------+-------------+-------------+-------------+-------------+-------------+-------------+-------------+-------------+-------------+-------------+-------------+---------------------+-------------+-------------+-------------+-------------+-------------+---------------------+-------------+-------------+-------------+-------------+-------------+-------------+-------------+-------------+-------------+-------------+---------------------+-------------+---------------------+-------------+-------------+-------------+-------------+-------------+-------------+-------------+-------------+-------------+-------------+-------------+\n",
      "| WinsW(0) | 0.5        | 0.41946308724832215 | 0.5        | 0.5        | 0.5         | 0.5         | 0.5         | 0.5         | 0.5         | 0.5         | 0.5         | 0.5         | 0.5        | 0.5        | 0.41946308724832215 | 0.5        | 0.5         | 0.5         | 0.5         | 0.5         | 0.5         | 0.5         | 0.5         | 0.5         | 0.5        | 0.41946308724832215 | 0.5        | 0.5        | 0.5         | 0.5         | 0.5         | 0.5         | 0.5         | 0.5         | 0.5         | 0.5         | 0.5        | 0.5        | 0.41946308724832215 | 0.5        | 0.5         | 0.5         | 0.5         | 0.5         | 0.5         | 0.5         | 0.5         | 0.5         | 0.5        | 0.638728323699422   | 0.36127167630057805 | 0.5        | 0.5         | 0.5         | 0.5805369127516778  | 0.5         | 0.5         | 0.5         | 0.5         | 0.5         | 0.5        | 0.5        | 0.5        | 0.5        | 0.5         | 0.5         | 0.5         | 0.5         | 0.5         | 0.5         | 0.5         | 0.5         | 0.5        | 0.5        | 0.5805369127516778  | 0.5        | 0.5         | 0.5         | 0.5         | 0.5         | 0.5         | 0.5         | 0.5         | 0.5         | 0.5         | 0.5         | 0.5         | 0.5         | 0.5         | 0.5         | 0.5805369127516778  | 0.5         | 0.5         | 0.5         | 0.5         | 0.5         | 0.5         | 0.5         | 0.5         | 0.5         | 0.5         | 0.5         | 0.5         | 0.5         | 0.5         | 0.5         | 0.5         | 0.5         | 0.5         | 0.5         | 0.5         | 0.5         | 0.5         | 0.5         | 0.5         | 0.5         | 0.5         | 0.5         | 0.5         | 0.5         | 0.5         | 0.5         | 0.5         | 0.5         | 0.5         | 0.41946308724832215 | 0.5         | 0.5         | 0.5         | 0.5         | 0.5         | 0.5         | 0.5         | 0.5         | 0.5         | 0.5         | 0.5         | 0.5         | 0.5         | 0.5         | 0.5         | 0.5         | 0.5         | 0.5         | 0.5         | 0.5         | 0.5         | 0.41946308724832215 | 0.41946308724832215 | 0.5         | 0.5         | 0.5         | 0.5         | 0.5         | 0.5         | 0.5         | 0.5         | 0.5         | 0.5         | 0.5         | 0.5         | 0.41946308724832215 | 0.5         | 0.5         | 0.5         | 0.5         | 0.5         | 0.36127167630057805 | 0.5         | 0.5         | 0.5         | 0.5         | 0.5         | 0.5         | 0.5         | 0.5         | 0.5         | 0.5         | 0.41946308724832215 | 0.5         | 0.41946308724832215 | 0.5         | 0.5         | 0.5         | 0.5         | 0.5         | 0.5         | 0.5         | 0.5         | 0.5         | 0.5         | 0.5         |\n",
      "+----------+------------+---------------------+------------+------------+-------------+-------------+-------------+-------------+-------------+-------------+-------------+-------------+------------+------------+---------------------+------------+-------------+-------------+-------------+-------------+-------------+-------------+-------------+-------------+------------+---------------------+------------+------------+-------------+-------------+-------------+-------------+-------------+-------------+-------------+-------------+------------+------------+---------------------+------------+-------------+-------------+-------------+-------------+-------------+-------------+-------------+-------------+------------+---------------------+---------------------+------------+-------------+-------------+---------------------+-------------+-------------+-------------+-------------+-------------+------------+------------+------------+------------+-------------+-------------+-------------+-------------+-------------+-------------+-------------+-------------+------------+------------+---------------------+------------+-------------+-------------+-------------+-------------+-------------+-------------+-------------+-------------+-------------+-------------+-------------+-------------+-------------+-------------+---------------------+-------------+-------------+-------------+-------------+-------------+-------------+-------------+-------------+-------------+-------------+-------------+-------------+-------------+-------------+-------------+-------------+-------------+-------------+-------------+-------------+-------------+-------------+-------------+-------------+-------------+-------------+-------------+-------------+-------------+-------------+-------------+-------------+-------------+-------------+---------------------+-------------+-------------+-------------+-------------+-------------+-------------+-------------+-------------+-------------+-------------+-------------+-------------+-------------+-------------+-------------+-------------+-------------+-------------+-------------+-------------+-------------+---------------------+---------------------+-------------+-------------+-------------+-------------+-------------+-------------+-------------+-------------+-------------+-------------+-------------+-------------+---------------------+-------------+-------------+-------------+-------------+-------------+---------------------+-------------+-------------+-------------+-------------+-------------+-------------+-------------+-------------+-------------+-------------+---------------------+-------------+---------------------+-------------+-------------+-------------+-------------+-------------+-------------+-------------+-------------+-------------+-------------+-------------+\n",
      "| WinsW(1) | 0.5        | 0.5805369127516778  | 0.5        | 0.5        | 0.5         | 0.5         | 0.5         | 0.5         | 0.5         | 0.5         | 0.5         | 0.5         | 0.5        | 0.5        | 0.5805369127516778  | 0.5        | 0.5         | 0.5         | 0.5         | 0.5         | 0.5         | 0.5         | 0.5         | 0.5         | 0.5        | 0.5805369127516778  | 0.5        | 0.5        | 0.5         | 0.5         | 0.5         | 0.5         | 0.5         | 0.5         | 0.5         | 0.5         | 0.5        | 0.5        | 0.5805369127516778  | 0.5        | 0.5         | 0.5         | 0.5         | 0.5         | 0.5         | 0.5         | 0.5         | 0.5         | 0.5        | 0.36127167630057805 | 0.638728323699422   | 0.5        | 0.5         | 0.5         | 0.41946308724832215 | 0.5         | 0.5         | 0.5         | 0.5         | 0.5         | 0.5        | 0.5        | 0.5        | 0.5        | 0.5         | 0.5         | 0.5         | 0.5         | 0.5         | 0.5         | 0.5         | 0.5         | 0.5        | 0.5        | 0.41946308724832215 | 0.5        | 0.5         | 0.5         | 0.5         | 0.5         | 0.5         | 0.5         | 0.5         | 0.5         | 0.5         | 0.5         | 0.5         | 0.5         | 0.5         | 0.5         | 0.41946308724832215 | 0.5         | 0.5         | 0.5         | 0.5         | 0.5         | 0.5         | 0.5         | 0.5         | 0.5         | 0.5         | 0.5         | 0.5         | 0.5         | 0.5         | 0.5         | 0.5         | 0.5         | 0.5         | 0.5         | 0.5         | 0.5         | 0.5         | 0.5         | 0.5         | 0.5         | 0.5         | 0.5         | 0.5         | 0.5         | 0.5         | 0.5         | 0.5         | 0.5         | 0.5         | 0.5805369127516778  | 0.5         | 0.5         | 0.5         | 0.5         | 0.5         | 0.5         | 0.5         | 0.5         | 0.5         | 0.5         | 0.5         | 0.5         | 0.5         | 0.5         | 0.5         | 0.5         | 0.5         | 0.5         | 0.5         | 0.5         | 0.5         | 0.5805369127516778  | 0.5805369127516778  | 0.5         | 0.5         | 0.5         | 0.5         | 0.5         | 0.5         | 0.5         | 0.5         | 0.5         | 0.5         | 0.5         | 0.5         | 0.5805369127516778  | 0.5         | 0.5         | 0.5         | 0.5         | 0.5         | 0.638728323699422   | 0.5         | 0.5         | 0.5         | 0.5         | 0.5         | 0.5         | 0.5         | 0.5         | 0.5         | 0.5         | 0.5805369127516778  | 0.5         | 0.5805369127516778  | 0.5         | 0.5         | 0.5         | 0.5         | 0.5         | 0.5         | 0.5         | 0.5         | 0.5         | 0.5         | 0.5         |\n",
      "+----------+------------+---------------------+------------+------------+-------------+-------------+-------------+-------------+-------------+-------------+-------------+-------------+------------+------------+---------------------+------------+-------------+-------------+-------------+-------------+-------------+-------------+-------------+-------------+------------+---------------------+------------+------------+-------------+-------------+-------------+-------------+-------------+-------------+-------------+-------------+------------+------------+---------------------+------------+-------------+-------------+-------------+-------------+-------------+-------------+-------------+-------------+------------+---------------------+---------------------+------------+-------------+-------------+---------------------+-------------+-------------+-------------+-------------+-------------+------------+------------+------------+------------+-------------+-------------+-------------+-------------+-------------+-------------+-------------+-------------+------------+------------+---------------------+------------+-------------+-------------+-------------+-------------+-------------+-------------+-------------+-------------+-------------+-------------+-------------+-------------+-------------+-------------+---------------------+-------------+-------------+-------------+-------------+-------------+-------------+-------------+-------------+-------------+-------------+-------------+-------------+-------------+-------------+-------------+-------------+-------------+-------------+-------------+-------------+-------------+-------------+-------------+-------------+-------------+-------------+-------------+-------------+-------------+-------------+-------------+-------------+-------------+-------------+---------------------+-------------+-------------+-------------+-------------+-------------+-------------+-------------+-------------+-------------+-------------+-------------+-------------+-------------+-------------+-------------+-------------+-------------+-------------+-------------+-------------+-------------+---------------------+---------------------+-------------+-------------+-------------+-------------+-------------+-------------+-------------+-------------+-------------+-------------+-------------+-------------+---------------------+-------------+-------------+-------------+-------------+-------------+---------------------+-------------+-------------+-------------+-------------+-------------+-------------+-------------+-------------+-------------+-------------+---------------------+-------------+---------------------+-------------+-------------+-------------+-------------+-------------+-------------+-------------+-------------+-------------+-------------+-------------+\n",
      "CPD of Wops(A):\n",
      "+-------------+---------------------+---------------------+\n",
      "| Pera(D)     | Pera(D)(9)          | Pera(D)(10)         |\n",
      "+-------------+---------------------+---------------------+\n",
      "| Wops(A)(5)  | 0.16699282452707112 | 0.16601049868766404 |\n",
      "+-------------+---------------------+---------------------+\n",
      "| Wops(A)(6)  | 0.17090671885192435 | 0.16404199475065617 |\n",
      "+-------------+---------------------+---------------------+\n",
      "| Wops(A)(7)  | 0.17286366601435096 | 0.16404199475065617 |\n",
      "+-------------+---------------------+---------------------+\n",
      "| Wops(A)(9)  | 0.1630789302022179  | 0.16601049868766404 |\n",
      "+-------------+---------------------+---------------------+\n",
      "| Wops(A)(10) | 0.1630789302022179  | 0.1679790026246719  |\n",
      "+-------------+---------------------+---------------------+\n",
      "| Wops(A)(11) | 0.1630789302022179  | 0.17191601049868768 |\n",
      "+-------------+---------------------+---------------------+\n",
      "CPD of Pera(D):\n",
      "+-------------+----------+\n",
      "| Pera(D)(9)  | 0.501472 |\n",
      "+-------------+----------+\n",
      "| Pera(D)(10) | 0.498528 |\n",
      "+-------------+----------+\n",
      "CPD of Wera(D):\n",
      "+-------------+----------+\n",
      "| Wera(D)(9)  | 0.504416 |\n",
      "+-------------+----------+\n",
      "| Wera(D)(10) | 0.495584 |\n",
      "+-------------+----------+\n"
     ]
    }
   ],
   "source": [
    "DAG = bnlearn.parameter_learning.fit(DAG, pdf, methodtype='bayes')"
   ]
  },
  {
   "cell_type": "code",
   "execution_count": 31,
   "metadata": {},
   "outputs": [],
   "source": [
    "#bnlearn.print_CPD(DAG)"
   ]
  },
  {
   "cell_type": "code",
   "execution_count": 32,
   "metadata": {
    "scrolled": true
   },
   "outputs": [
    {
     "name": "stderr",
     "output_type": "stream",
     "text": [
      "Finding Elimination Order: :   0%|                                                               | 0/3 [00:00<?, ?it/s]\n",
      "  0%|                                                                                            | 0/3 [00:00<?, ?it/s]\u001b[A\n"
     ]
    },
    {
     "name": "stdout",
     "output_type": "stream",
     "text": [
      "[bnlearn] >Variable Elimination..\n"
     ]
    },
    {
     "name": "stderr",
     "output_type": "stream",
     "text": [
      "Eliminating: Pops(A):   0%|                                                                      | 0/3 [00:00<?, ?it/s]\u001b[A\n",
      "Eliminating: Wera(D):   0%|                                                                      | 0/3 [00:00<?, ?it/s]\u001b[A\n",
      "Eliminating: Pera(D): 100%|█████████████████████████████████████████████████████████████| 3/3 [00:00<00:00, 114.81it/s]\u001b[A"
     ]
    },
    {
     "name": "stdout",
     "output_type": "stream",
     "text": [
      "+----------+--------------+\n",
      "| WinsW    |   phi(WinsW) |\n",
      "+==========+==============+\n",
      "| WinsW(0) |       0.4903 |\n",
      "+----------+--------------+\n",
      "| WinsW(1) |       0.5097 |\n",
      "+----------+--------------+\n"
     ]
    },
    {
     "name": "stderr",
     "output_type": "stream",
     "text": [
      "\n"
     ]
    }
   ],
   "source": [
    "Pera = round(((9.00/10 * -1) + 1) *10)\n",
    "Wera = round(((8.00/10 * -1) + 1) * 10)\n",
    "#q1 = bnlearn.inference.fit(DAG, variables=['WinsW'], evidence={'Wops(A)':round(1.138 * 10), 'Pops(A)':round(0.738 * 10), 'Wera(D)': Wera,'Pera(D)': Pera})\n",
    "#q1 = bnlearn.inference.fit(DAG, variables=['WinsW'], evidence={'Wops(A)':1, 'Pops(A)':0, 'Wera(D)': 1,'Pera(D)': 0})\n",
    "q1 = bnlearn.inference.fit(DAG, variables=['WinsW'], evidence={'Wops(A)':round(1.138 * 10)})"
   ]
  },
  {
   "cell_type": "markdown",
   "metadata": {},
   "source": [
    "### SABRmetrics is the empirical analysis of baseball, especially baseball statistics that measure in-game activity. Or SABR  Society for American Baseball Research,\n",
    "\n",
    "WAR = (Batting Runs + Base Running Runs +Fielding Runs + Positional Adjustment + League Adjustment +Replacement Runs) / (Runs Per Win)\n",
    "*for pitchers it is a bit more difficult*\n",
    "https://library.fangraphs.com/misc/war/\n",
    "\n",
    "FIP- Fielding Independent Pitching (FIP) measures what a player’s ERA would look like over a given period of time if the pitcher were to have experienced league average results on balls in play and league average timing. \n",
    "FIP = ((13*HR)+(3*(BB+HBP))-(2*K))/IP + constant //hr is awful so 13 weight //BB - Walk //HBP - hit by pitch k strike out you want these. //innings pitchd \n",
    "https://library.fangraphs.com/pitching/fip/\n",
    "Ra9War Runs/IP x 9"
   ]
  },
  {
   "cell_type": "code",
   "execution_count": 40,
   "metadata": {},
   "outputs": [
    {
     "ename": "NameError",
     "evalue": "name 'lst' is not defined",
     "output_type": "error",
     "traceback": [
      "\u001b[1;31m---------------------------------------------------------------------------\u001b[0m",
      "\u001b[1;31mNameError\u001b[0m                                 Traceback (most recent call last)",
      "\u001b[1;32m<ipython-input-40-6c598c995f8e>\u001b[0m in \u001b[0;36m<module>\u001b[1;34m\u001b[0m\n\u001b[1;32m----> 1\u001b[1;33m \u001b[0mdf\u001b[0m \u001b[1;33m=\u001b[0m \u001b[0mpd\u001b[0m\u001b[1;33m.\u001b[0m\u001b[0mDataFrame\u001b[0m\u001b[1;33m(\u001b[0m\u001b[0mlst\u001b[0m\u001b[1;33m)\u001b[0m\u001b[1;33m\u001b[0m\u001b[1;33m\u001b[0m\u001b[0m\n\u001b[0m",
      "\u001b[1;31mNameError\u001b[0m: name 'lst' is not defined"
     ]
    }
   ],
   "source": [
    "df = pd.DataFrame(lst)"
   ]
  },
  {
   "cell_type": "code",
   "execution_count": null,
   "metadata": {},
   "outputs": [],
   "source": [
    "a askdjflaksjdflk;asjfl"
   ]
  },
  {
   "cell_type": "code",
   "execution_count": null,
   "metadata": {},
   "outputs": [],
   "source": []
  },
  {
   "cell_type": "code",
   "execution_count": null,
   "metadata": {},
   "outputs": [],
   "source": []
  },
  {
   "cell_type": "code",
   "execution_count": null,
   "metadata": {},
   "outputs": [],
   "source": []
  },
  {
   "cell_type": "code",
   "execution_count": null,
   "metadata": {},
   "outputs": [],
   "source": []
  }
 ],
 "metadata": {
  "kernelspec": {
   "display_name": "Python 3",
   "language": "python",
   "name": "python3"
  },
  "language_info": {
   "codemirror_mode": {
    "name": "ipython",
    "version": 3
   },
   "file_extension": ".py",
   "mimetype": "text/x-python",
   "name": "python",
   "nbconvert_exporter": "python",
   "pygments_lexer": "ipython3",
   "version": "3.8.5"
  }
 },
 "nbformat": 4,
 "nbformat_minor": 4
}
